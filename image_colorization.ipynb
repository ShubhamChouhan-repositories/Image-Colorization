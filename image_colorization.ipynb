{
 "cells": [
  {
   "cell_type": "code",
   "execution_count": 1,
   "id": "f221e3cd",
   "metadata": {},
   "outputs": [],
   "source": [
    "import numpy as np\n",
    "import argparse\n",
    "import cv2\n",
    "import os"
   ]
  },
  {
   "cell_type": "code",
   "execution_count": 2,
   "id": "f3a95ed5",
   "metadata": {},
   "outputs": [],
   "source": [
    "DIR = r\"C:\\Users\\shubh\\Documents\\colorize\"\n",
    "PROTOTXT = os.path.join(DIR, \"model/colorization_deploy_v2.prototxt\")\n",
    "POINTS = os.path.join(DIR, \"model/pts_in_hull.npy\")\n",
    "MODEL = os.path.join(DIR, \"model/colorization_release_v2.caffemodel\")\n",
    "IMAGE_PATH = os.path.join(DIR, \"images\", \"nature.jpg\")"
   ]
  },
  {
   "cell_type": "code",
   "execution_count": 3,
   "id": "0a9e6929",
   "metadata": {},
   "outputs": [],
   "source": [
    "args = {\"image\": IMAGE_PATH}\n",
    "\n",
    "# Validate paths\n",
    "if not os.path.exists(PROTOTXT):\n",
    "    raise FileNotFoundError(f\"Prototxt file not found: {PROTOTXT}\")\n",
    "if not os.path.exists(MODEL):\n",
    "    raise FileNotFoundError(f\"Model file not found: {MODEL}\")\n",
    "if not os.path.exists(POINTS):\n",
    "    raise FileNotFoundError(f\"Points file not found: {POINTS}\")\n",
    "if not os.path.exists(args[\"image\"]):\n",
    "    raise FileNotFoundError(f\"Input image not found: {args['image']}\")"
   ]
  },
  {
   "cell_type": "code",
   "execution_count": 4,
   "id": "39a52353",
   "metadata": {},
   "outputs": [
    {
     "name": "stdout",
     "output_type": "stream",
     "text": [
      "Load model\n"
     ]
    }
   ],
   "source": [
    "print(\"Load model\")\n",
    "net = cv2.dnn.readNetFromCaffe(PROTOTXT, MODEL)\n",
    "pts = np.load(POINTS)"
   ]
  },
  {
   "cell_type": "code",
   "execution_count": 5,
   "id": "84937f99",
   "metadata": {},
   "outputs": [],
   "source": [
    "class8 = net.getLayerId(\"class8_ab\")\n",
    "conv8 = net.getLayerId(\"conv8_313_rh\")\n",
    "pts = pts.transpose().reshape(2, 313, 1, 1)\n",
    "net.getLayer(class8).blobs = [pts.astype(\"float32\")]\n",
    "net.getLayer(conv8).blobs = [np.full([1, 313], 2.606, dtype=\"float32\")]"
   ]
  },
  {
   "cell_type": "code",
   "execution_count": 6,
   "id": "68c4a6e5",
   "metadata": {},
   "outputs": [],
   "source": [
    "image = cv2.imread(args[\"image\"])\n",
    "if image is None:\n",
    "    raise ValueError(f\"Failed to load image: {args['image']}\")\n",
    "\n",
    "scaled = image.astype(\"float32\") / 255.0\n",
    "lab = cv2.cvtColor(scaled, cv2.COLOR_BGR2LAB)\n",
    "\n",
    "resized = cv2.resize(lab, (224, 224))\n",
    "L = cv2.split(resized)[0]\n",
    "L -= 50"
   ]
  },
  {
   "cell_type": "code",
   "execution_count": 7,
   "id": "38b561da",
   "metadata": {},
   "outputs": [
    {
     "name": "stdout",
     "output_type": "stream",
     "text": [
      "Colorizing the image\n"
     ]
    }
   ],
   "source": [
    "print(\"Colorizing the image\")\n",
    "net.setInput(cv2.dnn.blobFromImage(L))\n",
    "ab = net.forward()[0, :, :, :].transpose((1, 2, 0))\n",
    "\n",
    "ab = cv2.resize(ab, (image.shape[1], image.shape[0]))\n",
    "\n",
    "L = cv2.split(lab)[0]\n",
    "colorized = np.concatenate((L[:, :, np.newaxis], ab), axis=2)\n",
    "\n",
    "colorized = cv2.cvtColor(colorized, cv2.COLOR_LAB2BGR)\n",
    "colorized = np.clip(colorized, 0, 1)\n",
    "\n",
    "colorized = (255 * colorized).astype(\"uint8\")"
   ]
  },
  {
   "cell_type": "code",
   "execution_count": null,
   "id": "589f9352",
   "metadata": {},
   "outputs": [],
   "source": [
    "cv2.imshow(\"Original\", image)\n",
    "cv2.imshow(\"Colorized\", colorized)\n",
    "cv2.waitKey(0)\n",
    "cv2.destroyAllWindows()"
   ]
  },
  {
   "cell_type": "code",
   "execution_count": null,
   "id": "072bc7bd",
   "metadata": {},
   "outputs": [],
   "source": []
  },
  {
   "cell_type": "code",
   "execution_count": null,
   "id": "a618eea6",
   "metadata": {},
   "outputs": [],
   "source": []
  }
 ],
 "metadata": {
  "kernelspec": {
   "display_name": "Python 3 (ipykernel)",
   "language": "python",
   "name": "python3"
  },
  "language_info": {
   "codemirror_mode": {
    "name": "ipython",
    "version": 3
   },
   "file_extension": ".py",
   "mimetype": "text/x-python",
   "name": "python",
   "nbconvert_exporter": "python",
   "pygments_lexer": "ipython3",
   "version": "3.9.7"
  }
 },
 "nbformat": 4,
 "nbformat_minor": 5
}
